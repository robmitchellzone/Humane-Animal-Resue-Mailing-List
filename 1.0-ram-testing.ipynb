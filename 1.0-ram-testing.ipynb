{
 "cells": [
  {
   "cell_type": "code",
   "execution_count": 1,
   "metadata": {},
   "outputs": [],
   "source": [
    "from bs4 import BeautifulSoup\n",
    "import requests\n",
    "import json\n",
    "import boto3\n",
    "import scrape_site\n",
    "from send_email import send_email"
   ]
  },
  {
   "cell_type": "code",
   "execution_count": 2,
   "metadata": {},
   "outputs": [],
   "source": [
    "r = requests.get('https://humaneanimalrescue.org/adopt/?_type=dog')\n",
    "main_page = BeautifulSoup(r.text, 'html.parser')\n",
    "all_dogs = scrape_site.list_dogs(main_page)\n",
    "\n",
    "with open('data/dogs.json', 'w') as f:\n",
    "    json.dump(all_dogs, f, indent=4)"
   ]
  },
  {
   "cell_type": "code",
   "execution_count": 3,
   "metadata": {},
   "outputs": [],
   "source": [
    "with open('data/dogs.json', 'r') as f:\n",
    "    old_dogs = json.load(f)[1:]"
   ]
  },
  {
   "cell_type": "code",
   "execution_count": 4,
   "metadata": {},
   "outputs": [],
   "source": [
    "old_dog_ids = [dog['id'] for dog in old_dogs]\n",
    "new_dogs = []\n",
    "for dog in all_dogs:\n",
    "    if dog['id'] not in old_dog_ids:\n",
    "        new_dogs.append(dog)"
   ]
  },
  {
   "cell_type": "code",
   "execution_count": 5,
   "metadata": {},
   "outputs": [],
   "source": [
    "# get details for all new dogs\n",
    "detailed_dogs = []\n",
    "for dog in new_dogs:\n",
    "    r = requests.get(dog['url'])\n",
    "    details_page = BeautifulSoup(r.text, 'html.parser')\n",
    "    detailed_dog = scrape_site.get_dog_details(details_page)\n",
    "    detailed_dogs.append(detailed_dog)"
   ]
  },
  {
   "cell_type": "code",
   "execution_count": 6,
   "metadata": {},
   "outputs": [
    {
     "data": {
      "text/plain": [
       "[{'headshot': 'https://www.shelterluv.com/sites/default/files/animal_pics/17549/2022/04/22/08/20220422085901.png',\n",
       "  'name': 'Agatha',\n",
       "  'breed': 'Mixed Breed (Large)',\n",
       "  'sex': 'Female',\n",
       "  'age': '8 years 4 months',\n",
       "  'weight': '62 lbs',\n",
       "  'description': \"It doesn't take a super sleuth to see how cute Agatha is. Like any true queen, she prefers all of the attention on her so she needs a home where she is the only pet. Agatha has a smile that you won't be able to resist. She has a few medical issues that we'll be happy to discuss with you. None of them stop her from living her best life. Agatha would prefer a calmer home to relax and be pampered in. Stop in to see her today!\",\n",
       "  'pictures': ['https://www.shelterluv.com/sites/default/files/animal_pics/17549/2022/03/05/11/20220305110010.png',\n",
       "   'https://www.shelterluv.com/sites/default/files/animal_pics/17549/2022/03/22/10/20220322100851.png',\n",
       "   'https://www.shelterluv.com/sites/default/files/animal_pics/17549/2022/03/30/09/20220330095953.png',\n",
       "   'https://www.shelterluv.com/sites/default/files/animal_pics/17549/2022/04/09/15/20220409153342.png',\n",
       "   'https://www.shelterluv.com/sites/default/files/animal_pics/17549/2022/04/12/10/20220412105854.png',\n",
       "   'https://www.shelterluv.com/sites/default/files/animal_pics/17549/2022/04/22/08/20220422085848.png',\n",
       "   'https://www.shelterluv.com/sites/default/files/animal_pics/17549/2022/04/22/08/20220422085939.png',\n",
       "   'https://www.shelterluv.com/sites/default/files/animal_pics/17549/2022/04/22/08/20220422085950.png',\n",
       "   'https://www.shelterluv.com/sites/default/files/animal_pics/17549/2022/05/14/17/20220514171701.png',\n",
       "   'https://www.shelterluv.com/sites/default/files/animal_pics/17549/2022/05/22/06/20220522063216.png']}]"
      ]
     },
     "execution_count": 6,
     "metadata": {},
     "output_type": "execute_result"
    }
   ],
   "source": [
    "detailed_dogs"
   ]
  },
  {
   "cell_type": "code",
   "execution_count": 10,
   "metadata": {},
   "outputs": [],
   "source": [
    "send_email('rob.mitchellzone@gmail.com', detailed_dogs)"
   ]
  },
  {
   "cell_type": "code",
   "execution_count": null,
   "metadata": {},
   "outputs": [],
   "source": []
  }
 ],
 "metadata": {
  "interpreter": {
   "hash": "9fd0519bf4e48674a08282390511f8c31798a00c2a17283069a56f77ff74cc13"
  },
  "kernelspec": {
   "display_name": "Python 3.10.4 ('har_dogs')",
   "language": "python",
   "name": "python3"
  },
  "language_info": {
   "codemirror_mode": {
    "name": "ipython",
    "version": 3
   },
   "file_extension": ".py",
   "mimetype": "text/x-python",
   "name": "python",
   "nbconvert_exporter": "python",
   "pygments_lexer": "ipython3",
   "version": "3.10.4"
  },
  "orig_nbformat": 4
 },
 "nbformat": 4,
 "nbformat_minor": 2
}
