{
 "cells": [
  {
   "cell_type": "code",
   "execution_count": 1,
   "metadata": {},
   "outputs": [],
   "source": [
    "from bs4 import BeautifulSoup\n",
    "import requests\n",
    "import json\n",
    "import scrape_site"
   ]
  },
  {
   "cell_type": "code",
   "execution_count": 9,
   "metadata": {},
   "outputs": [],
   "source": []
  },
  {
   "cell_type": "code",
   "execution_count": 10,
   "metadata": {},
   "outputs": [
    {
     "data": {
      "text/plain": [
       "[{'headshot': 'https://www.shelterluv.com/sites/default/files/animal_pics/17549/2022/05/29/15/20220529151441.png',\n",
       "  'name': 'Beau',\n",
       "  'breed': 'Terrier/Mix',\n",
       "  'sex': 'Male',\n",
       "  'age': '3 years ',\n",
       "  'weight': '38.2 lbs',\n",
       "  'description': 'Thank you for your interest in adoption! We are open to process adoptions on a walk-in basis Tues. – Fri. from 1 p.m. to 6 p.m. Weekends are by appointment only.',\n",
       "  'pictures': ['https://www.shelterluv.com/sites/default/files/animal_pics/17549/2022/05/25/12/20220525120716.png',\n",
       "   'https://www.shelterluv.com/sites/default/files/animal_pics/17549/2022/05/25/13/20220525135250.png',\n",
       "   'https://www.shelterluv.com/sites/default/files/animal_pics/17549/2022/05/25/13/20220525135319.png',\n",
       "   'https://www.shelterluv.com/sites/default/files/animal_pics/17549/2022/05/25/13/20220525135335.png',\n",
       "   'https://www.shelterluv.com/sites/default/files/animal_pics/17549/2022/05/29/15/20220529151331.png',\n",
       "   'https://www.shelterluv.com/sites/default/files/animal_pics/17549/2022/05/29/15/20220529151407.png']},\n",
       " {'headshot': 'https://www.shelterluv.com/sites/default/files/animal_pics/17549/2022/06/06/15/20220606150123.png',\n",
       "  'name': 'Honeybee',\n",
       "  'breed': 'Coonhound, Redbone',\n",
       "  'sex': 'Female',\n",
       "  'age': '8 years ',\n",
       "  'weight': '99.5 lbs',\n",
       "  'description': \"If you were a flower growing wild and free you'd want this dog to be your sweet Honeybee. She's a warm breeze on a summer night and a big hug after a hard day. Honeybee is as sweet as they come and she'll be your best friend. She's looking for a quiet, calm home to help her get used to her new life and help her learn to be brave. Honeybee has some medical issues that we'll be happy to discuss with you but none of them stop her from living her best life. Come meet your new best gal today!\",\n",
       "  'pictures': ['https://www.shelterluv.com/sites/default/files/animal_pics/17549/2022/06/01/17/20220601170820.png',\n",
       "   'https://www.shelterluv.com/sites/default/files/animal_pics/17549/2022/06/06/14/20220606145853.png',\n",
       "   'https://www.shelterluv.com/sites/default/files/animal_pics/17549/2022/06/06/14/20220606145900.png',\n",
       "   'https://www.shelterluv.com/sites/default/files/animal_pics/17549/2022/06/06/15/20220606150131.png',\n",
       "   'https://www.shelterluv.com/sites/default/files/animal_pics/17549/2022/06/01/12/20220601124400.png']}]"
      ]
     },
     "execution_count": 10,
     "metadata": {},
     "output_type": "execute_result"
    }
   ],
   "source": [
    "get_new_dogs()"
   ]
  },
  {
   "cell_type": "code",
   "execution_count": null,
   "metadata": {},
   "outputs": [],
   "source": []
  }
 ],
 "metadata": {
  "interpreter": {
   "hash": "9fd0519bf4e48674a08282390511f8c31798a00c2a17283069a56f77ff74cc13"
  },
  "kernelspec": {
   "display_name": "Python 3.10.4 ('har_dogs')",
   "language": "python",
   "name": "python3"
  },
  "language_info": {
   "codemirror_mode": {
    "name": "ipython",
    "version": 3
   },
   "file_extension": ".py",
   "mimetype": "text/x-python",
   "name": "python",
   "nbconvert_exporter": "python",
   "pygments_lexer": "ipython3",
   "version": "3.10.4"
  },
  "orig_nbformat": 4
 },
 "nbformat": 4,
 "nbformat_minor": 2
}
